{
 "cells": [
  {
   "cell_type": "markdown",
   "metadata": {
    "tags": [
     "pdf-title"
    ]
   },
   "source": [
    "# Softmax exercise\n",
    "\n",
    "*Complete and hand in this completed worksheet (including its outputs and any supporting code outside of the worksheet) with your assignment submission. For more details see the [assignments page](http://vision.stanford.edu/teaching/cs231n/assignments.html) on the course website.*\n",
    "\n",
    "This exercise is analogous to the SVM exercise. You will:\n",
    "\n",
    "- implement a fully-vectorized **loss function** for the Softmax classifier\n",
    "- implement the fully-vectorized expression for its **analytic gradient**\n",
    "- **check your implementation** with numerical gradient\n",
    "- use a validation set to **tune the learning rate and regularization** strength\n",
    "- **optimize** the loss function with **SGD**\n",
    "- **visualize** the final learned weights\n"
   ]
  },
  {
   "cell_type": "code",
   "execution_count": 9,
   "metadata": {
    "tags": [
     "pdf-ignore"
    ]
   },
   "outputs": [
    {
     "name": "stdout",
     "output_type": "stream",
     "text": [
      "The autoreload extension is already loaded. To reload it, use:\n",
      "  %reload_ext autoreload\n"
     ]
    }
   ],
   "source": [
    "import random\n",
    "import numpy as np\n",
    "from cs231n.data_utils import load_CIFAR10\n",
    "import matplotlib.pyplot as plt\n",
    "\n",
    "%matplotlib inline\n",
    "plt.rcParams['figure.figsize'] = (10.0, 8.0) # set default size of plots\n",
    "plt.rcParams['image.interpolation'] = 'nearest'\n",
    "plt.rcParams['image.cmap'] = 'gray'\n",
    "\n",
    "# for auto-reloading extenrnal modules\n",
    "# see http://stackoverflow.com/questions/1907993/autoreload-of-modules-in-ipython\n",
    "%load_ext autoreload\n",
    "%autoreload 2"
   ]
  },
  {
   "cell_type": "code",
   "execution_count": 2,
   "metadata": {
    "tags": [
     "pdf-ignore"
    ]
   },
   "outputs": [
    {
     "name": "stdout",
     "output_type": "stream",
     "text": [
      "Train data shape:  (49000, 3073)\n",
      "Train labels shape:  (49000,)\n",
      "Validation data shape:  (1000, 3073)\n",
      "Validation labels shape:  (1000,)\n",
      "Test data shape:  (1000, 3073)\n",
      "Test labels shape:  (1000,)\n",
      "dev data shape:  (500, 3073)\n",
      "dev labels shape:  (500,)\n"
     ]
    }
   ],
   "source": [
    "def get_CIFAR10_data(num_training=49000, num_validation=1000, num_test=1000, num_dev=500):\n",
    "    \"\"\"\n",
    "    Load the CIFAR-10 dataset from disk and perform preprocessing to prepare\n",
    "    it for the linear classifier. These are the same steps as we used for the\n",
    "    SVM, but condensed to a single function.  \n",
    "    \"\"\"\n",
    "    # Load the raw CIFAR-10 data\n",
    "    cifar10_dir = 'cs231n/datasets/cifar-10-batches-py'\n",
    "    \n",
    "    # Cleaning up variables to prevent loading data multiple times (which may cause memory issue)\n",
    "    try:\n",
    "       del X_train, y_train\n",
    "       del X_test, y_test\n",
    "       print('Clear previously loaded data.')\n",
    "    except:\n",
    "       pass\n",
    "\n",
    "    X_train, y_train, X_test, y_test = load_CIFAR10(cifar10_dir)\n",
    "    \n",
    "    # subsample the data\n",
    "    mask = list(range(num_training, num_training + num_validation))\n",
    "    X_val = X_train[mask]\n",
    "    y_val = y_train[mask]\n",
    "    mask = list(range(num_training))\n",
    "    X_train = X_train[mask]\n",
    "    y_train = y_train[mask]\n",
    "    mask = list(range(num_test))\n",
    "    X_test = X_test[mask]\n",
    "    y_test = y_test[mask]\n",
    "    mask = np.random.choice(num_training, num_dev, replace=False)\n",
    "    X_dev = X_train[mask]\n",
    "    y_dev = y_train[mask]\n",
    "    \n",
    "    # Preprocessing: reshape the image data into rows\n",
    "    X_train = np.reshape(X_train, (X_train.shape[0], -1))\n",
    "    X_val = np.reshape(X_val, (X_val.shape[0], -1))\n",
    "    X_test = np.reshape(X_test, (X_test.shape[0], -1))\n",
    "    X_dev = np.reshape(X_dev, (X_dev.shape[0], -1))\n",
    "    \n",
    "    # Normalize the data: subtract the mean image\n",
    "    mean_image = np.mean(X_train, axis = 0)\n",
    "    X_train -= mean_image\n",
    "    X_val -= mean_image\n",
    "    X_test -= mean_image\n",
    "    X_dev -= mean_image\n",
    "    \n",
    "    # add bias dimension and transform into columns\n",
    "    X_train = np.hstack([X_train, np.ones((X_train.shape[0], 1))])\n",
    "    X_val = np.hstack([X_val, np.ones((X_val.shape[0], 1))])\n",
    "    X_test = np.hstack([X_test, np.ones((X_test.shape[0], 1))])\n",
    "    X_dev = np.hstack([X_dev, np.ones((X_dev.shape[0], 1))])\n",
    "    \n",
    "    return X_train, y_train, X_val, y_val, X_test, y_test, X_dev, y_dev\n",
    "\n",
    "\n",
    "# Invoke the above function to get our data.\n",
    "X_train, y_train, X_val, y_val, X_test, y_test, X_dev, y_dev = get_CIFAR10_data()\n",
    "print('Train data shape: ', X_train.shape)\n",
    "print('Train labels shape: ', y_train.shape)\n",
    "print('Validation data shape: ', X_val.shape)\n",
    "print('Validation labels shape: ', y_val.shape)\n",
    "print('Test data shape: ', X_test.shape)\n",
    "print('Test labels shape: ', y_test.shape)\n",
    "print('dev data shape: ', X_dev.shape)\n",
    "print('dev labels shape: ', y_dev.shape)"
   ]
  },
  {
   "cell_type": "markdown",
   "metadata": {},
   "source": [
    "## Softmax Classifier\n",
    "\n",
    "Your code for this section will all be written inside `cs231n/classifiers/softmax.py`.\n"
   ]
  },
  {
   "cell_type": "code",
   "execution_count": 3,
   "metadata": {},
   "outputs": [
    {
     "name": "stdout",
     "output_type": "stream",
     "text": [
      "loss: 2.336065\n",
      "sanity check: 2.302585\n"
     ]
    }
   ],
   "source": [
    "# First implement the naive softmax loss function with nested loops.\n",
    "# Open the file cs231n/classifiers/softmax.py and implement the\n",
    "# softmax_loss_naive function.\n",
    "\n",
    "from cs231n.classifiers.softmax import softmax_loss_naive\n",
    "import time\n",
    "\n",
    "# Generate a random softmax weight matrix and use it to compute the loss.\n",
    "W = np.random.randn(3073, 10) * 0.0001\n",
    "loss, grad = softmax_loss_naive(W, X_dev, y_dev, 0.0)\n",
    "\n",
    "# As a rough sanity check, our loss should be something close to -log(0.1).\n",
    "print('loss: %f' % loss)\n",
    "print('sanity check: %f' % (-np.log(0.1)))"
   ]
  },
  {
   "cell_type": "markdown",
   "metadata": {
    "tags": [
     "pdf-inline"
    ]
   },
   "source": [
    "**Inline Question 1**\n",
    "\n",
    "Why do we expect our loss to be close to -log(0.1)? Explain briefly.**\n",
    "\n",
    "$\\color{blue}{\\textit Your Answer:}$ Because the weights are random so we expect every prediction to have a probability of 1/10 (where 10 in the number of classes). And the loss is the mean over all the data samples after puting the probability in a negetive log.\n"
   ]
  },
  {
   "cell_type": "code",
   "execution_count": 4,
   "metadata": {},
   "outputs": [
    {
     "name": "stdout",
     "output_type": "stream",
     "text": [
      "numerical: -2.058126 analytic: -2.058127, relative error: 2.230107e-08\n",
      "numerical: -0.492265 analytic: -0.492265, relative error: 5.261684e-10\n",
      "numerical: -0.239901 analytic: -0.239901, relative error: 3.151868e-07\n",
      "numerical: 3.796779 analytic: 3.796779, relative error: 6.301459e-09\n",
      "numerical: 0.448665 analytic: 0.448665, relative error: 4.374444e-08\n",
      "numerical: -1.343636 analytic: -1.343636, relative error: 6.251127e-10\n",
      "numerical: 0.365555 analytic: 0.365556, relative error: 3.680514e-08\n",
      "numerical: -2.341379 analytic: -2.341379, relative error: 7.490984e-09\n",
      "numerical: 0.427693 analytic: 0.427693, relative error: 2.172435e-08\n",
      "numerical: -1.865076 analytic: -1.865076, relative error: 1.065592e-08\n",
      "numerical: -1.181568 analytic: -1.181568, relative error: 2.269722e-08\n",
      "numerical: 2.456915 analytic: 2.456915, relative error: 3.803077e-09\n",
      "numerical: 1.607654 analytic: 1.607654, relative error: 3.413184e-08\n",
      "numerical: 0.908631 analytic: 0.908631, relative error: 2.613937e-08\n",
      "numerical: 2.403299 analytic: 2.403300, relative error: 2.907896e-08\n",
      "numerical: 3.198009 analytic: 3.198009, relative error: 1.422265e-08\n",
      "numerical: 0.842796 analytic: 0.842796, relative error: 8.096078e-08\n",
      "numerical: -3.400805 analytic: -3.400806, relative error: 2.386595e-08\n",
      "numerical: -0.693564 analytic: -0.693564, relative error: 2.692078e-08\n",
      "numerical: -1.063468 analytic: -1.063468, relative error: 6.811665e-09\n"
     ]
    }
   ],
   "source": [
    "# Complete the implementation of softmax_loss_naive and implement a (naive)\n",
    "# version of the gradient that uses nested loops.\n",
    "loss, grad = softmax_loss_naive(W, X_dev, y_dev, 1.0)\n",
    "\n",
    "# As we did for the SVM, use numeric gradient checking as a debugging tool.\n",
    "# The numeric gradient should be close to the analytic gradient.\n",
    "from cs231n.gradient_check import grad_check_sparse\n",
    "f = lambda w: softmax_loss_naive(w, X_dev, y_dev, 1.0)[0]\n",
    "grad_numerical = grad_check_sparse(f, W, grad, 10)\n",
    "\n",
    "# similar to SVM case, do another gradient check with regularization\n",
    "loss, grad = softmax_loss_naive(W, X_dev, y_dev, 5e1)\n",
    "f = lambda w: softmax_loss_naive(w, X_dev, y_dev, 5e1)[0]\n",
    "grad_numerical = grad_check_sparse(f, W, grad, 10)"
   ]
  },
  {
   "cell_type": "code",
   "execution_count": 5,
   "metadata": {},
   "outputs": [
    {
     "name": "stdout",
     "output_type": "stream",
     "text": [
      "naive loss: 2.366506e+00 computed in 0.177665s\n",
      "vectorized loss: 2.366506e+00 computed in 0.054790s\n",
      "Loss difference: 0.000000\n",
      "Gradient difference: 0.000000\n"
     ]
    }
   ],
   "source": [
    "# Now that we have a naive implementation of the softmax loss function and its gradient,\n",
    "# implement a vectorized version in softmax_loss_vectorized.\n",
    "# The two versions should compute the same results, but the vectorized version should be\n",
    "# much faster.\n",
    "tic = time.time()\n",
    "loss_naive, grad_naive = softmax_loss_naive(W, X_dev, y_dev, 100.0)\n",
    "toc = time.time()\n",
    "print('naive loss: %e computed in %fs' % (loss_naive, toc - tic))\n",
    "\n",
    "from cs231n.classifiers.softmax import softmax_loss_vectorized\n",
    "tic = time.time()\n",
    "loss_vectorized, grad_vectorized = softmax_loss_vectorized(W, X_dev, y_dev, 100.0)\n",
    "toc = time.time()\n",
    "print('vectorized loss: %e computed in %fs' % (loss_vectorized, toc - tic))\n",
    "\n",
    "# As we did for the SVM, we use the Frobenius norm to compare the two versions\n",
    "# of the gradient.\n",
    "grad_difference = np.linalg.norm(grad_naive - grad_vectorized, ord='fro')\n",
    "print('Loss difference: %f' % np.abs(loss_naive - loss_vectorized))\n",
    "print('Gradient difference: %f' % grad_difference)"
   ]
  },
  {
   "cell_type": "code",
   "execution_count": 6,
   "metadata": {
    "id": "tuning",
    "scrolled": true,
    "tags": [
     "code"
    ]
   },
   "outputs": [
    {
     "name": "stdout",
     "output_type": "stream",
     "text": [
      "Now training with learning_rate: 1.000000e-07 and regularization_strength 2.000000e+04\n",
      "iteration 0 / 1500: loss 614.147742\n",
      "iteration 100 / 1500: loss 275.041414\n",
      "iteration 200 / 1500: loss 124.158910\n",
      "iteration 300 / 1500: loss 56.667828\n",
      "iteration 400 / 1500: loss 26.497123\n",
      "iteration 500 / 1500: loss 12.953215\n",
      "iteration 600 / 1500: loss 7.044966\n",
      "iteration 700 / 1500: loss 4.240011\n",
      "iteration 800 / 1500: loss 3.047208\n",
      "iteration 900 / 1500: loss 2.522356\n",
      "iteration 1000 / 1500: loss 2.248103\n",
      "iteration 1100 / 1500: loss 2.184409\n",
      "iteration 1200 / 1500: loss 2.159317\n",
      "iteration 1300 / 1500: loss 2.079270\n",
      "iteration 1400 / 1500: loss 2.079834\n",
      "Now training with learning_rate: 1.000000e-07 and regularization_strength 2.500000e+04\n",
      "iteration 0 / 1500: loss 768.588596\n",
      "iteration 100 / 1500: loss 282.116365\n",
      "iteration 200 / 1500: loss 104.548487\n",
      "iteration 300 / 1500: loss 39.498355\n",
      "iteration 400 / 1500: loss 15.790190\n",
      "iteration 500 / 1500: loss 7.099226\n",
      "iteration 600 / 1500: loss 3.944553\n",
      "iteration 700 / 1500: loss 2.699199\n",
      "iteration 800 / 1500: loss 2.368967\n",
      "iteration 900 / 1500: loss 2.170302\n",
      "iteration 1000 / 1500: loss 2.174128\n",
      "iteration 1100 / 1500: loss 2.067623\n",
      "iteration 1200 / 1500: loss 2.106515\n",
      "iteration 1300 / 1500: loss 2.121478\n",
      "iteration 1400 / 1500: loss 2.143095\n",
      "Now training with learning_rate: 1.000000e-07 and regularization_strength 3.000000e+04\n",
      "iteration 0 / 1500: loss 924.289344\n",
      "iteration 100 / 1500: loss 277.615387\n",
      "iteration 200 / 1500: loss 84.483988\n",
      "iteration 300 / 1500: loss 26.780779\n",
      "iteration 400 / 1500: loss 9.439726\n",
      "iteration 500 / 1500: loss 4.256995\n",
      "iteration 600 / 1500: loss 2.787303\n",
      "iteration 700 / 1500: loss 2.348957\n",
      "iteration 800 / 1500: loss 2.106181\n",
      "iteration 900 / 1500: loss 2.121162\n",
      "iteration 1000 / 1500: loss 2.095846\n",
      "iteration 1100 / 1500: loss 2.169764\n",
      "iteration 1200 / 1500: loss 2.130624\n",
      "iteration 1300 / 1500: loss 2.090308\n",
      "iteration 1400 / 1500: loss 2.106881\n",
      "Now training with learning_rate: 1.000000e-07 and regularization_strength 3.500000e+04\n",
      "iteration 0 / 1500: loss 1074.621416\n",
      "iteration 100 / 1500: loss 264.114686\n",
      "iteration 200 / 1500: loss 66.173444\n",
      "iteration 300 / 1500: loss 17.836406\n",
      "iteration 400 / 1500: loss 5.973004\n",
      "iteration 500 / 1500: loss 3.092073\n",
      "iteration 600 / 1500: loss 2.276011\n",
      "iteration 700 / 1500: loss 2.168852\n",
      "iteration 800 / 1500: loss 2.188698\n",
      "iteration 900 / 1500: loss 2.155059\n",
      "iteration 1000 / 1500: loss 2.137227\n",
      "iteration 1100 / 1500: loss 2.062592\n",
      "iteration 1200 / 1500: loss 2.132826\n",
      "iteration 1300 / 1500: loss 2.104979\n",
      "iteration 1400 / 1500: loss 2.166732\n",
      "Now training with learning_rate: 5.000000e-07 and regularization_strength 2.000000e+04\n",
      "iteration 0 / 1500: loss 620.415821\n",
      "iteration 100 / 1500: loss 12.731573\n",
      "iteration 200 / 1500: loss 2.250589\n",
      "iteration 300 / 1500: loss 2.089621\n",
      "iteration 400 / 1500: loss 2.078393\n",
      "iteration 500 / 1500: loss 2.087083\n",
      "iteration 600 / 1500: loss 2.094490\n",
      "iteration 700 / 1500: loss 2.035772\n",
      "iteration 800 / 1500: loss 2.136444\n",
      "iteration 900 / 1500: loss 2.060582\n",
      "iteration 1000 / 1500: loss 2.122111\n",
      "iteration 1100 / 1500: loss 2.060223\n",
      "iteration 1200 / 1500: loss 2.081553\n",
      "iteration 1300 / 1500: loss 2.151857\n",
      "iteration 1400 / 1500: loss 2.089994\n",
      "Now training with learning_rate: 5.000000e-07 and regularization_strength 2.500000e+04\n",
      "iteration 0 / 1500: loss 781.589383\n",
      "iteration 100 / 1500: loss 6.989219\n",
      "iteration 200 / 1500: loss 2.049110\n",
      "iteration 300 / 1500: loss 2.112440\n",
      "iteration 400 / 1500: loss 2.092602\n",
      "iteration 500 / 1500: loss 2.106892\n",
      "iteration 600 / 1500: loss 2.089308\n",
      "iteration 700 / 1500: loss 2.048031\n",
      "iteration 800 / 1500: loss 2.090149\n",
      "iteration 900 / 1500: loss 2.099209\n",
      "iteration 1000 / 1500: loss 2.106720\n",
      "iteration 1100 / 1500: loss 2.105108\n",
      "iteration 1200 / 1500: loss 2.073680\n",
      "iteration 1300 / 1500: loss 2.093100\n",
      "iteration 1400 / 1500: loss 2.130878\n",
      "Now training with learning_rate: 5.000000e-07 and regularization_strength 3.000000e+04\n",
      "iteration 0 / 1500: loss 916.867735\n",
      "iteration 100 / 1500: loss 4.136553\n",
      "iteration 200 / 1500: loss 2.082166\n",
      "iteration 300 / 1500: loss 2.148649\n",
      "iteration 400 / 1500: loss 2.092285\n",
      "iteration 500 / 1500: loss 2.117667\n",
      "iteration 600 / 1500: loss 2.108221\n",
      "iteration 700 / 1500: loss 2.078292\n",
      "iteration 800 / 1500: loss 2.105596\n",
      "iteration 900 / 1500: loss 2.039226\n",
      "iteration 1000 / 1500: loss 2.149210\n",
      "iteration 1100 / 1500: loss 2.132815\n",
      "iteration 1200 / 1500: loss 2.116683\n",
      "iteration 1300 / 1500: loss 2.074712\n",
      "iteration 1400 / 1500: loss 2.112078\n",
      "Now training with learning_rate: 5.000000e-07 and regularization_strength 3.500000e+04\n",
      "iteration 0 / 1500: loss 1082.280087\n",
      "iteration 100 / 1500: loss 2.971026\n",
      "iteration 200 / 1500: loss 2.180365\n",
      "iteration 300 / 1500: loss 2.072386\n",
      "iteration 400 / 1500: loss 2.116865\n",
      "iteration 500 / 1500: loss 2.120723\n",
      "iteration 600 / 1500: loss 2.115775\n",
      "iteration 700 / 1500: loss 2.134873\n",
      "iteration 800 / 1500: loss 2.099685\n",
      "iteration 900 / 1500: loss 2.063953\n",
      "iteration 1000 / 1500: loss 2.066562\n",
      "iteration 1100 / 1500: loss 2.108056\n",
      "iteration 1200 / 1500: loss 2.082435\n",
      "iteration 1300 / 1500: loss 2.080115\n",
      "iteration 1400 / 1500: loss 2.134475\n",
      "lr 1.000000e-07 reg 2.000000e+04 train accuracy: 0.339347 val accuracy: 0.356000\n",
      "lr 1.000000e-07 reg 2.500000e+04 train accuracy: 0.329408 val accuracy: 0.344000\n",
      "lr 1.000000e-07 reg 3.000000e+04 train accuracy: 0.325571 val accuracy: 0.343000\n",
      "lr 1.000000e-07 reg 3.500000e+04 train accuracy: 0.315673 val accuracy: 0.336000\n",
      "lr 5.000000e-07 reg 2.000000e+04 train accuracy: 0.339918 val accuracy: 0.348000\n",
      "lr 5.000000e-07 reg 2.500000e+04 train accuracy: 0.319265 val accuracy: 0.329000\n",
      "lr 5.000000e-07 reg 3.000000e+04 train accuracy: 0.321755 val accuracy: 0.341000\n",
      "lr 5.000000e-07 reg 3.500000e+04 train accuracy: 0.312633 val accuracy: 0.319000\n",
      "best validation accuracy achieved during cross-validation: 0.356000\n"
     ]
    }
   ],
   "source": [
    "# Use the validation set to tune hyperparameters (regularization strength and\n",
    "# learning rate). You should experiment with different ranges for the learning\n",
    "# rates and regularization strengths; if you are careful you should be able to\n",
    "# get a classification accuracy of over 0.35 on the validation set.\n",
    "\n",
    "from cs231n.classifiers import Softmax\n",
    "results = {}\n",
    "best_val = -1\n",
    "best_softmax = None\n",
    "\n",
    "################################################################################\n",
    "# TODO:                                                                        #\n",
    "# Use the validation set to set the learning rate and regularization strength. #\n",
    "# This should be identical to the validation that you did for the SVM; save    #\n",
    "# the best trained softmax classifer in best_softmax.                          #\n",
    "################################################################################\n",
    "\n",
    "# Provided as a reference. You may or may not want to change these hyperparameters\n",
    "learning_rates = [1e-7, 5e-7]\n",
    "regularization_strengths = [2e4, 2.5e4, 3e4, 3.5e4]\n",
    "\n",
    "# *****START OF YOUR CODE (DO NOT DELETE/MODIFY THIS LINE)*****\n",
    "\n",
    "for learning_rate in learning_rates:\n",
    "    for regularization_strength in regularization_strengths:\n",
    "        print('Now training with learning_rate: %e and regularization_strength %e'\n",
    "              % (learning_rate, regularization_strength))\n",
    "        \n",
    "        softmax = Softmax()\n",
    "        softmax.train(X_train, y_train, learning_rate=learning_rate, reg=regularization_strength,\n",
    "                              num_iters=1500, verbose=True)\n",
    "\n",
    "        y_train_pred = softmax.predict(X_train)\n",
    "        training_accuracy = np.mean(y_train == y_train_pred)\n",
    "\n",
    "        y_val_pred = softmax.predict(X_val)\n",
    "        validation_accuracy = np.mean(y_val == y_val_pred)\n",
    "\n",
    "        results[(learning_rate, regularization_strength)] = (training_accuracy, validation_accuracy)\n",
    "\n",
    "        if validation_accuracy > best_val:\n",
    "            best_val = validation_accuracy\n",
    "            best_softmax = softmax\n",
    "\n",
    "# *****END OF YOUR CODE (DO NOT DELETE/MODIFY THIS LINE)*****\n",
    "    \n",
    "# Print out results.\n",
    "for lr, reg in sorted(results):\n",
    "    train_accuracy, val_accuracy = results[(lr, reg)]\n",
    "    print('lr %e reg %e train accuracy: %f val accuracy: %f' % (\n",
    "                lr, reg, train_accuracy, val_accuracy))\n",
    "    \n",
    "print('best validation accuracy achieved during cross-validation: %f' % best_val)"
   ]
  },
  {
   "cell_type": "code",
   "execution_count": 7,
   "metadata": {
    "id": "test"
   },
   "outputs": [
    {
     "name": "stdout",
     "output_type": "stream",
     "text": [
      "softmax on raw pixels final test set accuracy: 0.357000\n"
     ]
    }
   ],
   "source": [
    "# evaluate on test set\n",
    "# Evaluate the best softmax on test set\n",
    "y_test_pred = best_softmax.predict(X_test)\n",
    "test_accuracy = np.mean(y_test == y_test_pred)\n",
    "print('softmax on raw pixels final test set accuracy: %f' % (test_accuracy, ))"
   ]
  },
  {
   "cell_type": "markdown",
   "metadata": {
    "tags": [
     "pdf-inline"
    ]
   },
   "source": [
    "**Inline Question 2** - *True or False*\n",
    "\n",
    "Suppose the overall training loss is defined as the sum of the per-datapoint loss over all training examples. It is possible to add a new datapoint to a training set that would leave the SVM loss unchanged, but this is not the case with the Softmax classifier loss.\n",
    "\n",
    "$\\color{blue}{\\textit Your Answer:}$ True\n",
    "\n",
    "\n",
    "$\\color{blue}{\\textit Your Explanation:}$ Because we can add a datapoint that all the scores of the wrong classes are more than delta away from the score of the right class, thus the loss for this datapiont will be exactly zero. However the loss for any point with softmax is never zero, and all the point will be taken into considaration. \n",
    "\n"
   ]
  },
  {
   "cell_type": "code",
   "execution_count": 10,
   "metadata": {},
   "outputs": [
    {
     "data": {
      "image/png": "[encoded data removed]",
      "text/plain": [
       "<Figure size 720x576 with 10 Axes>"
      ]
     },
     "metadata": {
      "needs_background": "light"
     },
     "output_type": "display_data"
    }
   ],
   "source": [
    "# Visualize the learned weights for each class\n",
    "w = best_softmax.W[:-1,:] # strip out the bias\n",
    "w = w.reshape(32, 32, 3, 10)\n",
    "\n",
    "w_min, w_max = np.min(w), np.max(w)\n",
    "\n",
    "classes = ['plane', 'car', 'bird', 'cat', 'deer', 'dog', 'frog', 'horse', 'ship', 'truck']\n",
    "for i in range(10):\n",
    "    plt.subplot(2, 5, i + 1)\n",
    "    \n",
    "    # Rescale the weights to be between 0 and 255\n",
    "    wimg = 255.0 * (w[:, :, :, i].squeeze() - w_min) / (w_max - w_min)\n",
    "    plt.imshow(wimg.astype('uint8'))\n",
    "    plt.axis('off')\n",
    "    plt.title(classes[i])"
   ]
  }
 ],
 "metadata": {
  "kernelspec": {
   "display_name": "Python 3",
   "language": "python",
   "name": "python3"
  },
  "language_info": {
   "codemirror_mode": {
    "name": "ipython",
    "version": 3
   },
   "file_extension": ".py",
   "mimetype": "text/x-python",
   "name": "python",
   "nbconvert_exporter": "python",
   "pygments_lexer": "ipython3",
   "version": "3.7.7"
  }
 },
 "nbformat": 4,
 "nbformat_minor": 1
}
